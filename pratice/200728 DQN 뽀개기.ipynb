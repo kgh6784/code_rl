{
 "cells": [
  {
   "cell_type": "markdown",
   "metadata": {},
   "source": [
    "저번주 토요일 DDQN 발표 준비를 하면서, DQN 조차 어려워 쩔쩔매는 내 모습을 보면서, 코드를 꼭 한 줄 한 줄 공부해봐야 생각했다. 퍼실 이정우 님이 직접 구현한 코드를 올려주셔서 공부해보려고 한다. 우선 DQN부터 해보겠다."
   ]
  },
  {
   "cell_type": "code",
   "execution_count": 1,
   "metadata": {},
   "outputs": [],
   "source": [
    "import gym\n",
    "import torch\n",
    "import torch.nn as nn\n",
    "import torch.nn.functional as F\n",
    "import torch.optim as optim\n",
    "from torch.distributions import Categorical\n",
    "from torch.distributions import Normal\n",
    "import matplotlib.pyplot as plt\n",
    "import numpy as np\n",
    "import time\n",
    "from collections import deque\n",
    "import random"
   ]
  },
  {
   "cell_type": "markdown",
   "metadata": {},
   "source": [
    "내 기억 상으로 구현해야 할 것들이 Q 네트워크랑 replay memory가 있다. 우선 Q 네트워크를 구현해보자. 클래스로 만들겠다"
   ]
  },
  {
   "cell_type": "code",
   "execution_count": 2,
   "metadata": {},
   "outputs": [],
   "source": [
    "class Q(nn.Module):\n",
    "    def __init__(self, state_space, action_space):\n",
    "        super(Q, self).__init__()\n",
    "        self.fc1 = nn.Linear(state_space, 64)\n",
    "        self.fc2 = nn.Linear(64, 64)\n",
    "        self.fc3 = nn.Linear(64, action_space)\n",
    "    \n",
    "    def forward(self, x):\n",
    "        x = torch.relu(self.fc1(x))\n",
    "        x = torch.relu(self.fc2(x))\n",
    "        Q_values = self.fc3(x)\n",
    "        \n",
    "        return Q_values"
   ]
  },
  {
   "cell_type": "markdown",
   "metadata": {},
   "source": [
    "ε-greedy도 정의해야 한다. DQN 정도까지 왔으면 다들 이게 뭔지 알것이다. 점점 greedy를 줄인다<br>\n",
    "정해준 ε 값보다 작은 random한 값이 나오면 action을 random하게 선택하고, 큰 값이 나오면 Q_values 중에 가장 큰 값을 선택하게 한다."
   ]
  },
  {
   "cell_type": "code",
   "execution_count": 15,
   "metadata": {},
   "outputs": [],
   "source": [
    "def e_greedy(Q_values, action_space, epsilon):\n",
    "    if np.random.rand() <= epsilon:\n",
    "        action = random.randrange(action_space)\n",
    "        return action\n",
    "    else:\n",
    "        return Q_values.argmax().item()"
   ]
  },
  {
   "cell_type": "markdown",
   "metadata": {},
   "source": [
    "train 함수도 만들어보자. DQN에서는 mini-batch도 필요하다"
   ]
  },
  {
   "cell_type": "code",
   "execution_count": 16,
   "metadata": {},
   "outputs": [],
   "source": [
    "def train(Q_func_net, Q_target_net, random_mini_batch):\n",
    "    \n",
    "    gamma = 0.99\n",
    "    \n",
    "    mini_batch = np.array(random_mini_batch)\n",
    "    obs = np.vstack(mini_batch[:, 0])\n",
    "    actions = list(mini_batch[:, 1])\n",
    "    rewards = list(mini_batch[:, 2])\n",
    "    next_obs = np.vstack(mini_batch[:,3])\n",
    "    masks = list(mini_batch[:, 4])\n",
    "    \n",
    "    #이들을 tensor로 변환해줘야 한다.\n",
    "    obs = torch.Tensor(obs)\n",
    "    actions = torch.LongTensor(actions).unsqueeze(1)\n",
    "    rewards = torch.Tensor(rewards)\n",
    "    next_obs = torch.Tensor(next_obs)\n",
    "    masks = torch.Tensor(masks)\n",
    "    \n",
    "    # Q-value를 얻어보자\n",
    "    Q_values = Q_func_net(obs)\n",
    "    q_value = Q_values.gather(1, actions).view(-1)\n",
    "    # 각 value로 선택된 action들의 q value를 얻어온다.\n",
    "    \n",
    "    # max함수를 사용하면 [0]에는 value 값이들어 가 있고 [1]에는 index값이 들어가 있다.\n",
    "    target_q_value = Q_target_net(torch.Tensor(next_obs)).max(1)[0]\n",
    "    \n",
    "    Y = rewards + masks*gamma*target_q_value\n",
    "    \n",
    "    #loss\n",
    "    MSE = torch.nn.MSELoss()\n",
    "    # target은 단순히 주기적으로 업데이트해 네트워크를 유지시키므로, parameter가 미분되선 안된다. 그래서 detach() 해준다.\n",
    "    loss = MSE(q_value, Y.detach())\n",
    "    \n",
    "    optimizer.zero_grad()\n",
    "    loss.backward()\n",
    "    optimizer.step()"
   ]
  },
  {
   "cell_type": "markdown",
   "metadata": {},
   "source": [
    "하이퍼 파라미터들은 퍼실 님이 한 자료 그대로 가져왔다"
   ]
  },
  {
   "cell_type": "code",
   "execution_count": 17,
   "metadata": {},
   "outputs": [],
   "source": [
    "initial_exploration = 2000 ## 10000개의 memory가 쌓이고 나서 학습 시작!\n",
    "learning_rate = 0.0005\n",
    "epsilon = 1 ## epsilon 1 부터 줄어들어감.\n",
    "epsilon_decay = 0.00001 ## episilon 감쇠 값.\n",
    "replay_buffer = deque(maxlen=100000) ## 덱으로 편하게 replay_buffer의 max 값을 정해줍니다. 가득 차게 되면 알아서 FIFO 형태로 데이터 저장됨.\n",
    "batch_size = 32 ## data batch size\n",
    "print_interval = 500 ## 몇 episode 마다 출력할건지.\n",
    "\n",
    "update_target = 2000 ## 몇 step 마다 target network를 업데이트 할지.\n",
    "maximum_steps = 500 ## infinite task라 일정 시점에서 게임을 종료 시켜줘야함.\n",
    "episode = 1000000 # episode 정해주기.\n",
    "\n",
    "action_space = 2\n",
    "state_space = 4"
   ]
  },
  {
   "cell_type": "markdown",
   "metadata": {},
   "source": [
    "이제 환경을 만들어 봅시다~ 우리는 **cartpole**을 사용한다."
   ]
  },
  {
   "cell_type": "markdown",
   "metadata": {},
   "source": [
    "아래에서 부족한 개념들\n",
    "- `state_dict` : 각 계층을 매개변수 텐서로 매핑되는 python 사전(dict) 갹체. 학습 가능한 매개변수를 갖는 계층 및 등록된 버퍼들만이 `state_dict`에 항목을 가진다.(`torch.optim` 포함)<br>\n",
    "추론을 위해 모델을 저장할 때는 학습된 모델의 학습된 매개변수만 저자하면 된다. `torch.save()`를 사용하여 모델의 state_dict를 저장하는 것이 나중에 모델을 사용할 때 가장 유연하게 사용할 수 있다. "
   ]
  },
  {
   "cell_type": "markdown",
   "metadata": {},
   "source": [
    "- `load_state_dict()` 함수에는 저장된 객체가 경로가 아닌, **사전 객체를 전달해야** 한다. 객체 자체를 전달해야 된다는 말인 것 같다. 계속 파이토치를 접해보면서 몸에 익히자!"
   ]
  },
  {
   "cell_type": "code",
   "execution_count": null,
   "metadata": {},
   "outputs": [
    {
     "name": "stderr",
     "output_type": "stream",
     "text": [
      "<ipython-input-16-a8e396111914>:5: VisibleDeprecationWarning: Creating an ndarray from ragged nested sequences (which is a list-or-tuple of lists-or-tuples-or ndarrays with different lengths or shapes) is deprecated. If you meant to do this, you must specify 'dtype=object' when creating the ndarray\n",
      "  mini_batch = np.array(random_mini_batch)\n"
     ]
    },
    {
     "data": {
      "image/png": "[encoded data removed]",
      "text/plain": [
       "<Figure size 432x288 with 1 Axes>"
      ]
     },
     "metadata": {
      "needs_background": "light"
     },
     "output_type": "display_data"
    },
    {
     "name": "stdout",
     "output_type": "stream",
     "text": [
      "episode:  500  step:  11696  epsilon:  0.9030400000004413  score:  23.392\n"
     ]
    },
    {
     "data": {
      "image/png": "[encoded data removed]",
      "text/plain": [
       "<Figure size 432x288 with 1 Axes>"
      ]
     },
     "metadata": {
      "needs_background": "light"
     },
     "output_type": "display_data"
    },
    {
     "name": "stdout",
     "output_type": "stream",
     "text": [
      "episode:  1000  step:  26483  epsilon:  0.7551700000011142  score:  29.574\n"
     ]
    },
    {
     "data": {
      "image/png": "[encoded data removed]",
      "text/plain": [
       "<Figure size 432x288 with 1 Axes>"
      ]
     },
     "metadata": {
      "needs_background": "light"
     },
     "output_type": "display_data"
    },
    {
     "name": "stdout",
     "output_type": "stream",
     "text": [
      "episode:  1500  step:  40206  epsilon:  0.6179400000017388  score:  27.446\n"
     ]
    },
    {
     "data": {
      "image/png": "[encoded data removed]",
      "text/plain": [
       "<Figure size 432x288 with 1 Axes>"
      ]
     },
     "metadata": {
      "needs_background": "light"
     },
     "output_type": "display_data"
    },
    {
     "name": "stdout",
     "output_type": "stream",
     "text": [
      "episode:  2000  step:  61942  epsilon:  0.4005800000021761  score:  43.472\n"
     ]
    },
    {
     "data": {
      "image/png": "[encoded data removed]",
      "text/plain": [
       "<Figure size 432x288 with 1 Axes>"
      ]
     },
     "metadata": {
      "needs_background": "light"
     },
     "output_type": "display_data"
    },
    {
     "name": "stdout",
     "output_type": "stream",
     "text": [
      "episode:  2500  step:  129676  epsilon:  0.05  score:  135.468\n"
     ]
    },
    {
     "data": {
      "image/png": "[encoded data removed]",
      "text/plain": [
       "<Figure size 432x288 with 1 Axes>"
      ]
     },
     "metadata": {
      "needs_background": "light"
     },
     "output_type": "display_data"
    },
    {
     "name": "stdout",
     "output_type": "stream",
     "text": [
      "episode:  3000  step:  202241  epsilon:  0.05  score:  145.13\n"
     ]
    }
   ],
   "source": [
    "env = gym.make('CartPole-v1')\n",
    "\n",
    "Q_function_net = Q(state_space, action_space)\n",
    "Q_target_net = Q(state_space, action_space)\n",
    "\n",
    "optimizer = optim.Adam(Q_function_net.parameters(), lr = learning_rate)\n",
    "Q_target_net.load_state_dict(Q_function_net.state_dict())\n",
    "\n",
    "step = 0\n",
    "score = 0\n",
    "show_score = []\n",
    "\n",
    "for epi in range(episode):\n",
    "    obs = env.reset() \n",
    "    for i in range(maximum_steps):\n",
    "        Q_values = Q_function_net(torch.Tensor(obs))\n",
    "        action = e_greedy(Q_values, action_space, epsilon)\n",
    "        next_obs, reward, done, _ = env.step(action)\n",
    "        # next_s, reward, done, info\n",
    "        \n",
    "        # 게임이 종료됐으면, done이 1이면 mask = 0 (생존유무 표시용)\n",
    "        mask = 0 if done else 1\n",
    "        \n",
    "        replay_buffer.append((obs, action, reward, next_obs, mask))\n",
    "        obs = next_obs\n",
    "        score += reward\n",
    "        step += 1\n",
    "        \n",
    "        if step > initial_exploration:\n",
    "            epsilon -= epsilon_decay\n",
    "            epsilon = max(epsilon, 0.05) # 가끔 새로운 exploration을 위해\n",
    "            random_mini_batch = random.sample(replay_buffer, batch_size)\n",
    "            train(Q_function_net, Q_target_net, random_mini_batch)\n",
    "            \n",
    "            if step % update_target == 0 and step>update_target:\n",
    "                Q_target_net.load_state_dict(Q_function_net.state_dict())\n",
    "                \n",
    "        if done:\n",
    "                break\n",
    "        \n",
    "    if epi % print_interval == 0 and epi!= 0:\n",
    "        show_score.append(score/print_interval)\n",
    "        plt.plot(show_score)\n",
    "        plt.show()\n",
    "        print('episode: ',epi,' step: ',step,' epsilon: ',epsilon,' score: ',score/print_interval)\n",
    "        score = 0\n",
    "env.close()        "
   ]
  },
  {
   "cell_type": "code",
   "execution_count": null,
   "metadata": {},
   "outputs": [],
   "source": []
  }
 ],
 "metadata": {
  "kernelspec": {
   "display_name": "Python 3",
   "language": "python",
   "name": "python3"
  },
  "language_info": {
   "codemirror_mode": {
    "name": "ipython",
    "version": 3
   },
   "file_extension": ".py",
   "mimetype": "text/x-python",
   "name": "python",
   "nbconvert_exporter": "python",
   "pygments_lexer": "ipython3",
   "version": "3.8.3"
  }
 },
 "nbformat": 4,
 "nbformat_minor": 4
}
